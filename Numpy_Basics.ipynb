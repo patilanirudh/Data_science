{
 "cells": [
  {
   "cell_type": "markdown",
   "metadata": {},
   "source": [
    "# <center><span style=\"color:Blue\">Numpy Basics</span></center>"
   ]
  },
  {
   "cell_type": "markdown",
   "metadata": {},
   "source": [
    "### What is Numpy?"
   ]
  },
  {
   "cell_type": "markdown",
   "metadata": {},
   "source": [
    "- The Numpy library is the core libarary for scientific computing (Math/Vectors/Matrices/Tensors(Array)) in python .\n",
    "- It provides a high-performance multidimensional array object, and tools for working with these arrays'"
   ]
  },
  {
   "cell_type": "code",
   "execution_count": 1,
   "metadata": {},
   "outputs": [],
   "source": [
    "#importing the numpy library\n",
    "import numpy as np"
   ]
  },
  {
   "cell_type": "code",
   "execution_count": 97,
   "metadata": {},
   "outputs": [
    {
     "name": "stdout",
     "output_type": "stream",
     "text": [
      "The 1-D array is : [1 2 3] \n",
      "The shape of array is: (3,)\n",
      "The legth of array is : 3\n",
      "The dimension of array is : 1\n",
      "The data type of array is : int32\n",
      "The data type of array is : <class 'numpy.ndarray'>\n",
      "-------------------------------------------\n",
      "The 2-D array is :  \n",
      " [[1 2 3]\n",
      " [1 2 3]\n",
      " [1 2 3]]\n",
      "The shape of array is: (3, 3)\n",
      "The legth of array is : 3\n",
      "The dimension of array is : 2\n",
      "The data type of array is : int32\n",
      "The data type of array is : <class 'numpy.ndarray'>\n",
      "-------------------------------------------\n",
      "The 3-D array is :  \n",
      " [[[1 2 3]\n",
      "  [1 2 3]]\n",
      "\n",
      " [[1 2 3]\n",
      "  [1 2 3]]\n",
      "\n",
      " [[1 2 3]\n",
      "  [1 2 3]]]\n",
      "The shape of array is: (3, 2, 3)\n",
      "The legth of array is : 3\n",
      "The dimension of array is : 3\n",
      "The data type of array is : int32\n",
      "The data type of array is : <class 'numpy.ndarray'>\n"
     ]
    }
   ],
   "source": [
    "# Numpy Array\n",
    "\n",
    "arr=np.array([1,2,3])\n",
    "arr1=np.array([[1,2,3],\n",
    "               [1,2,3],\n",
    "               [1,2,3]])\n",
    "arr2=np.array([[[1,2,3],[1,2,3]],[[1,2,3],[1,2,3]],[[1,2,3],[1,2,3]]])\n",
    "print(\"The 1-D array is : {0} \".format(arr))\n",
    "print(\"The shape of array is:\" ,arr.shape)\n",
    "print(\"The legth of array is :\",len(arr))\n",
    "print(\"The dimension of array is :\",arr.ndim)\n",
    "print(\"The data type of array is :\",arr.dtype)\n",
    "print(\"The data type of array is :\",type(arr))\n",
    "\n",
    "print(\"-------------------------------------------\")\n",
    "print(\"The 2-D array is : \",\"\\n\",(arr1))\n",
    "print(\"The shape of array is:\" ,arr1.shape)\n",
    "print(\"The legth of array is :\",len(arr1))\n",
    "print(\"The dimension of array is :\",arr1.ndim)\n",
    "print(\"The data type of array is :\",arr1.dtype)\n",
    "print(\"The data type of array is :\",type(arr1))\n",
    "\n",
    "\n",
    "print(\"-------------------------------------------\")\n",
    "print(\"The 3-D array is : \",\"\\n\",(arr2))\n",
    "print(\"The shape of array is:\" ,arr2.shape)\n",
    "print(\"The legth of array is :\",len(arr2))\n",
    "print(\"The dimension of array is :\",arr2.ndim)\n",
    "print(\"The data type of array is :\",arr2.dtype)\n",
    "print(\"The data type of array is :\",type(arr2))"
   ]
  },
  {
   "cell_type": "code",
   "execution_count": 96,
   "metadata": {},
   "outputs": [
    {
     "name": "stdout",
     "output_type": "stream",
     "text": [
      "The Array of zeros is : [[0. 0.]]\n",
      "The data type is: float64\n",
      "The data type of array is : <class 'numpy.ndarray'>\n",
      "The shape of array is: (1, 2)\n",
      "The dimension of array is : 2\n"
     ]
    }
   ],
   "source": [
    "#To create array of zeros\n",
    "\n",
    "arr_Zeros=np.zeros((1,2))\n",
    "print(\"The Array of zeros is :\",arr_Zeros)\n",
    "print(\"The data type is:\",arr_Zeros.dtype)\n",
    "print(\"The data type of array is :\",type(arr_Zeros))\n",
    "print(\"The shape of array is:\" ,arr_Zeros.shape)\n",
    "print(\"The dimension of array is :\",arr_Zeros.ndim)\n",
    "\n"
   ]
  },
  {
   "cell_type": "markdown",
   "metadata": {},
   "source": [
    "### use of Arange"
   ]
  },
  {
   "cell_type": "code",
   "execution_count": 102,
   "metadata": {},
   "outputs": [
    {
     "name": "stdout",
     "output_type": "stream",
     "text": [
      "[1 2 3 4 5 6 7 8]\n",
      "[1 3 5 7]\n"
     ]
    }
   ],
   "source": [
    "arr=np.arange(1,9)  #(start,stop,step) >> Default step is one excludes '_stop_'\n",
    "print(arr) \n",
    "arr=np.arange(1,9,2)\n",
    "print(arr) "
   ]
  },
  {
   "cell_type": "markdown",
   "metadata": {},
   "source": [
    "### Use of LinSpace"
   ]
  },
  {
   "cell_type": "code",
   "execution_count": 7,
   "metadata": {},
   "outputs": [
    {
     "data": {
      "text/plain": [
       "array([1.   , 1.375, 1.75 , 2.125, 2.5  , 2.875, 3.25 , 3.625, 4.   ])"
      ]
     },
     "execution_count": 7,
     "metadata": {},
     "output_type": "execute_result"
    }
   ],
   "source": [
    "#Generates the range of numbers specified(start,stop,no. of numbers to be generated)\n",
    "lin_1=np.linspace(1,4,9)\n",
    "lin_1"
   ]
  },
  {
   "cell_type": "markdown",
   "metadata": {},
   "source": [
    "### Use of Full"
   ]
  },
  {
   "cell_type": "code",
   "execution_count": 17,
   "metadata": {},
   "outputs": [
    {
     "name": "stdout",
     "output_type": "stream",
     "text": [
      "[[[3 3]\n",
      "  [3 3]]]\n",
      "------------------------------\n",
      "[[['a' 'a' 'a' 'a']\n",
      "  ['a' 'a' 'a' 'a']\n",
      "  ['a' 'a' 'a' 'a']]\n",
      "\n",
      " [['a' 'a' 'a' 'a']\n",
      "  ['a' 'a' 'a' 'a']\n",
      "  ['a' 'a' 'a' 'a']]]\n"
     ]
    }
   ],
   "source": [
    "#generates array of given dimension with elememts specified,((copies,rows,columns),element of copy)\n",
    "a=np.full((1,2,2),3)\n",
    "print(a)\n",
    "print(\"------------------------------\")\n",
    "a=np.full((2,3,4),'a')\n",
    "print(a)\n",
    "\n"
   ]
  },
  {
   "cell_type": "markdown",
   "metadata": {},
   "source": [
    "### Use of Eye"
   ]
  },
  {
   "cell_type": "code",
   "execution_count": 27,
   "metadata": {},
   "outputs": [
    {
     "data": {
      "text/plain": [
       "array([[1, 0, 0],\n",
       "       [0, 1, 0],\n",
       "       [0, 0, 1]])"
      ]
     },
     "execution_count": 27,
     "metadata": {},
     "output_type": "execute_result"
    }
   ],
   "source": [
    "#identity matrix generation\n",
    "\n",
    "iden=np.eye(3,dtype=int)\n",
    "iden"
   ]
  },
  {
   "cell_type": "markdown",
   "metadata": {},
   "source": [
    "# Indexing and Slicing ( 1D , 2D)"
   ]
  },
  {
   "cell_type": "code",
   "execution_count": 45,
   "metadata": {},
   "outputs": [
    {
     "name": "stdout",
     "output_type": "stream",
     "text": [
      "first element is: 1\n",
      "second element is: 2\n",
      "last element is: 6\n",
      "traversing through array: [1 3 5]\n",
      "traversing from specific index: [3 4 5 6]\n",
      "traversing till specific index: [1 2]\n",
      "reversing the array: [6 5 4 3 2 1]\n",
      "Trversing using negative index : [6 4 2]\n"
     ]
    }
   ],
   "source": [
    "ar=np.array([1,2,3,4,5,6])\n",
    "\n",
    "print(\"first element is:\",ar[0])\n",
    "print(\"second element is:\",ar[1])\n",
    "print(\"last element is:\",ar[-1])\n",
    "print(\"traversing through array:\",ar[0::2]) #start from 0th index and till end with the step 2\n",
    "print(\"traversing from specific index:\",ar[2:])\n",
    "print(\"traversing till specific index:\",ar[:2])\n",
    "print(\"reversing the array:\",ar[::-1])\n",
    "print(\"Trversing using negative index :\",ar[::-2])\n",
    "\n",
    "\n",
    "\n",
    "\n"
   ]
  },
  {
   "cell_type": "code",
   "execution_count": 111,
   "metadata": {},
   "outputs": [
    {
     "name": "stdout",
     "output_type": "stream",
     "text": [
      "First element : 23\n",
      "Forth element: 26\n",
      "Last element: 65\n",
      "[45 26 65]\n",
      "[23 45 18 26]\n"
     ]
    }
   ],
   "source": [
    "age = np.array([23,45,18,26,34,65])\n",
    "# Retrive the first element \n",
    "print('First element :',age[0])\n",
    "print('Forth element:',age[3])\n",
    "print('Last element:',age[-1])\n",
    "print(age[1::2]) # start at 1 st element go up to 65 by the step of 2\n",
    "print(age[:4])"
   ]
  },
  {
   "cell_type": "markdown",
   "metadata": {},
   "source": [
    "### 2-D Array"
   ]
  },
  {
   "cell_type": "code",
   "execution_count": 91,
   "metadata": {},
   "outputs": [
    {
     "name": "stdout",
     "output_type": "stream",
     "text": [
      "The array is :\n",
      "[[1 2 3]\n",
      " [4 5 6]] \n",
      "-------------------------------------------------------\n",
      "Methods of retrieving the elements 2-D of array\n",
      "-------------------------------------------------------\n",
      "First elemnent of array: 1\n",
      "First elemnent of array: 1\n",
      "Row and column one elemnent of  array: 5\n",
      "First row of array: [1 2 3]\n",
      "second row of array: [4 5 6]\n",
      "First column of array: [1 4]\n",
      "second column of array: [2 5]\n",
      "Checking the array: True\n",
      "2\n"
     ]
    }
   ],
   "source": [
    "arr1=np.array([[1,2,3],\n",
    "               [4,5,6]])\n",
    "print(\"The array is :\\n{0} \".format(arr1))\n",
    "print(\"-------------------------------------------------------\")\n",
    "print(\"Methods of retrieving the elements 2-D of array\")\n",
    "print(\"-------------------------------------------------------\")\n",
    "print(\"First elemnent of array:\",arr1[0,0])\n",
    "print(\"First elemnent of array:\",arr1[0][0])\n",
    "print(\"Row and column one elemnent of  array:\",arr1[1,1])\n",
    "print(\"First row of array:\",arr1[0])\n",
    "print(\"second row of array:\",arr1[1])\n",
    "print(\"First column of array:\",arr1[:,0])\n",
    "print(\"second column of array:\",arr1[:,1])\n",
    "print(\"Checking the array:\",arr1[0,0]==arr1[0][0])\n",
    "\n",
    "\n"
   ]
  },
  {
   "cell_type": "markdown",
   "metadata": {},
   "source": [
    "### Arithmetic operation on array"
   ]
  },
  {
   "cell_type": "code",
   "execution_count": 15,
   "metadata": {},
   "outputs": [
    {
     "name": "stdout",
     "output_type": "stream",
     "text": [
      "The array_1 is:\n",
      " [1 2 3 4 5]\n",
      "----------------------------------\n",
      "The array_2 is:\n",
      " [6 7 8 9 0]\n",
      "----------------------------------\n",
      "The sum of array1 and array2 is:\n",
      " [ 7  9 11 13  5]\n",
      "----------------------------------\n",
      "The subtraction of array1 and array2 is:\n",
      " [-5 -5 -5 -5  5]\n",
      "----------------------------------\n",
      "The multiplication of array1 and array2 is:\n",
      " [ 6 14 24 36  0]\n",
      "----------------------------------\n",
      "The division of array1 and array2 is:\n",
      " [6 3 2 2 0]\n",
      "----------------------------------\n",
      "The square root  of array1  is:\n",
      " [1.         1.41421356 1.73205081 2.         2.23606798]\n",
      "----------------------------------\n",
      "The square of array2  is:\n",
      " [36 49 64 81  0]\n",
      "----------------------------------\n",
      "The exponential of array2  is:\n",
      " [4.03428793e+02 1.09663316e+03 2.98095799e+03 8.10308393e+03\n",
      " 1.00000000e+00]\n",
      "----------------------------------\n",
      "The log of array2  is:\n",
      " [0.         0.69314718 1.09861229 1.38629436 1.60943791]\n"
     ]
    }
   ],
   "source": [
    "arr1=np.array([1,2,3,4,5])\n",
    "arr2=np.array([6,7,8,9,0])\n",
    "print(\"The array_1 is:\\n\",arr1)\n",
    "print(\"----------------------------------\")\n",
    "print(\"The array_2 is:\\n\",arr2)\n",
    "print(\"----------------------------------\")\n",
    "print(\"The sum of array1 and array2 is:\\n\",arr1+arr2)\n",
    "print(\"----------------------------------\")\n",
    "print(\"The subtraction of array1 and array2 is:\\n\",arr1-arr2)\n",
    "print(\"----------------------------------\")\n",
    "print(\"The multiplication of array1 and array2 is:\\n\",arr1*arr2)\n",
    "print(\"----------------------------------\")\n",
    "print(\"The division of array1 and array2 is:\\n\",arr2//arr1)\n",
    "print(\"----------------------------------\")\n",
    "print(\"The square root  of array1  is:\\n\",np.sqrt(arr1))\n",
    "print(\"----------------------------------\")\n",
    "print(\"The square of array2  is:\\n\",arr2**2)\n",
    "print(\"----------------------------------\")\n",
    "print(\"The exponential of array2  is:\\n\",np.exp(arr2))\n",
    "print(\"----------------------------------\")\n",
    "print(\"The log of array1  is:\\n\",np.log(arr1))"
   ]
  },
  {
   "cell_type": "markdown",
   "metadata": {},
   "source": [
    "## Arithemetic functions\n"
   ]
  },
  {
   "cell_type": "code",
   "execution_count": 19,
   "metadata": {},
   "outputs": [
    {
     "name": "stdout",
     "output_type": "stream",
     "text": [
      "The array_1 is:\n",
      " [1 2 3 4 5]\n",
      "----------------------------------\n",
      "The sum of array elements is: 15\n",
      "----------------------------------\n",
      "The mean of array elements is: 3.0\n",
      "The sum of array elements is: 15\n",
      "----------------------------------\n",
      "The Variance of array elements is: 2.0\n",
      "----------------------------------\n",
      "The Standard Deviation of array elements is: 1.4142135623730951\n",
      "----------------------------------\n",
      "The Square of array elements is: [ 1  4  9 16 25]\n",
      "----------------------------------\n",
      "The min of array elements is: 1 or 1\n",
      "----------------------------------\n",
      "The max of array elements is: 5 or 5\n",
      "----------------------------------\n",
      "The range of array elements is: 4 or 4\n"
     ]
    }
   ],
   "source": [
    "arr1=np.array([1,2,3,4,5])\n",
    "print(\"The array_1 is:\\n\",arr1)\n",
    "print(\"----------------------------------\")\n",
    "print(\"The sum of array elements is:\",arr1.sum())\n",
    "print(\"----------------------------------\")\n",
    "print(\"The mean of array elements is:\",arr1.mean())\n",
    "print(\"The sum of array elements is:\",arr1.sum())\n",
    "print(\"----------------------------------\")\n",
    "print(\"The Variance of array elements is:\",arr1.var())\n",
    "print(\"----------------------------------\")\n",
    "print(\"The Standard Deviation of array elements is:\",arr1.std())\n",
    "print(\"----------------------------------\")\n",
    "print(\"The Square of array elements is:\",np.square(arr1))\n",
    "print(\"----------------------------------\")\n",
    "print(\"The min of array elements is:\",arr1.min(),\"or\",np.min(arr1))\n",
    "print(\"----------------------------------\")\n",
    "print(\"The max of array elements is:\",arr1.max(),\"or\",np.max(arr1))\n",
    "print(\"----------------------------------\")\n",
    "print(\"The range of array elements is:\",np.max(arr1)-np.min(arr1),\"or\",arr1.max()-arr1.min())\n"
   ]
  },
  {
   "cell_type": "code",
   "execution_count": 203,
   "metadata": {},
   "outputs": [
    {
     "name": "stdout",
     "output_type": "stream",
     "text": [
      "Transpose of A : [[1 4]\n",
      " [2 5]\n",
      " [3 6]]\n"
     ]
    }
   ],
   "source": [
    "print('Transpose of A :',np.transpose(A))"
   ]
  },
  {
   "cell_type": "code",
   "execution_count": 204,
   "metadata": {},
   "outputs": [
    {
     "data": {
      "text/plain": [
       "(3, 2)"
      ]
     },
     "execution_count": 204,
     "metadata": {},
     "output_type": "execute_result"
    }
   ],
   "source": [
    "np.transpose(A).shape"
   ]
  },
  {
   "cell_type": "code",
   "execution_count": 210,
   "metadata": {},
   "outputs": [
    {
     "name": "stdout",
     "output_type": "stream",
     "text": [
      "[3 4]\n"
     ]
    }
   ],
   "source": [
    "a = np.array([3,4,5,6,7])\n",
    "b=np.where(a<5) # retrun an index i at which a[i]<4\n",
    "print(a[b])"
   ]
  },
  {
   "cell_type": "markdown",
   "metadata": {},
   "source": [
    "## Transpose, Reshape and Concatenate"
   ]
  },
  {
   "cell_type": "code",
   "execution_count": 44,
   "metadata": {},
   "outputs": [
    {
     "name": "stdout",
     "output_type": "stream",
     "text": [
      "The array_1 is:\n",
      " [[1 2 3 4 5]\n",
      " [6 7 8 9 0]]\n",
      "-------------------------------------------------------\n",
      "The array_2 is:\n",
      " [[1 2 3 4 5]\n",
      " [6 7 8 9 0]]\n",
      "-------------------------------------------------------\n",
      "The transpose of arr1 is:\n",
      " [[1 6]\n",
      " [2 7]\n",
      " [3 8]\n",
      " [4 9]\n",
      " [5 0]]\n",
      "-------------------------------------------------------\n",
      "The shape of array1 is: (2, 5)\n",
      "we can reshape the array as 10*1 or 1*10: \n",
      " [[1]\n",
      " [2]\n",
      " [3]\n",
      " [4]\n",
      " [5]\n",
      " [6]\n",
      " [7]\n",
      " [8]\n",
      " [9]\n",
      " [0]] \n",
      " \n",
      " and \n",
      " \n",
      " [1 2 3 4 5 6 7 8 9 0]\n",
      "-------------------------------------------------------\n",
      "concatenation of arr1 and arr2 is :\n",
      " [[1 2 3 4 5]\n",
      " [6 7 8 9 0]\n",
      " [1 2 3 4 5]\n",
      " [6 7 8 9 0]]\n"
     ]
    }
   ],
   "source": [
    "arr1=np.array([[1,2,3,4,5],[6,7,8,9,0]])\n",
    "arr2=np.array([[1,2,3,4,5],[6,7,8,9,0]])\n",
    "arr3=np.array([1,2,3,4,5])\n",
    "print(\"The array_1 is:\\n\",arr1)\n",
    "print(\"-------------------------------------------------------\")\n",
    "print(\"The array_2 is:\\n\",arr2)\n",
    "print(\"-------------------------------------------------------\")\n",
    "print(\"The transpose of arr1 is:\\n\",np.transpose(arr1))\n",
    "print(\"-------------------------------------------------------\")\n",
    "print(\"The shape of array1 is:\",arr1.shape)\n",
    "print(\"we can reshape the array as 10*1 or 1*10: \\n\",arr1.reshape(10,1),\"\\n \\n and \\n \\n\",arr1.reshape(1*10))\n",
    "print(\"-------------------------------------------------------\")\n",
    "print(\"concatenation of arr1 and arr2 is :\\n\",np.concatenate([arr1,arr2]))"
   ]
  },
  {
   "cell_type": "markdown",
   "metadata": {},
   "source": [
    "# Stacking (Array joins)"
   ]
  },
  {
   "cell_type": "markdown",
   "metadata": {},
   "source": [
    "1. The stack() is used to join two or more arrays of same shape along specified axis\n",
    "2. we can create higher dimensionl arrays by stacking two or more lower dimensional arrays "
   ]
  },
  {
   "cell_type": "code",
   "execution_count": 55,
   "metadata": {},
   "outputs": [
    {
     "name": "stdout",
     "output_type": "stream",
     "text": [
      "The array_1 is:\n",
      " [1 2 3 4 5]\n",
      "-------------------------------------------------------\n",
      "The array_2 is:\n",
      " [6 7 8 9 0]\n",
      "-------------------------------------------------------\n",
      "Stacking of array is\n",
      " [[1 2 3 4 5]\n",
      " [6 7 8 9 0]]\n",
      "-------------------------------------------------------\n",
      "Stacking of array is\n",
      " [[1 6]\n",
      " [2 7]\n",
      " [3 8]\n",
      " [4 9]\n",
      " [5 0]]\n",
      "-------------------------------------------------------\n",
      "Stacking of array horizontally is\n",
      " [1 2 3 4 5 6 7 8 9 0]\n",
      "-------------------------------------------------------\n",
      "Stacking of array vertically is\n",
      " [[1 2 3 4 5]\n",
      " [6 7 8 9 0]]\n",
      "-------------------------------------------------------\n",
      "Stacking of array by column is\n",
      " [[1 6]\n",
      " [2 7]\n",
      " [3 8]\n",
      " [4 9]\n",
      " [5 0]]\n",
      "-------------------------------------------------------\n",
      "Stacking of array dstack is\n",
      " [[[1 6]\n",
      "  [2 7]\n",
      "  [3 8]\n",
      "  [4 9]\n",
      "  [5 0]]]\n",
      "-------------------------------------------------------\n",
      "falttening of array is\n",
      " [1 2 3 4 5]\n"
     ]
    }
   ],
   "source": [
    "arr1=np.array([1,2,3,4,5])\n",
    "arr2=np.array([6,7,8,9,0])\n",
    "print(\"The array_1 is:\\n\",arr1)\n",
    "print(\"-------------------------------------------------------\")\n",
    "print(\"The array_2 is:\\n\",arr2)\n",
    "print(\"-------------------------------------------------------\")\n",
    "print(\"Stacking of array is\\n\",np.stack([arr1,arr2])) #default axis is 0\n",
    "print(\"-------------------------------------------------------\")\n",
    "print(\"Stacking of array is\\n\",np.stack([arr1,arr2],axis=1)) #along axis=1\n",
    "print(\"-------------------------------------------------------\")\n",
    "print(\"Stacking of array horizontally is\\n\",np.hstack([arr1,arr2]))\n",
    "print(\"-------------------------------------------------------\")\n",
    "print(\"Stacking of array vertically is\\n\",np.vstack([arr1,arr2]))\n",
    "print(\"-------------------------------------------------------\")\n",
    "print(\"Stacking of array by column is\\n\",np.column_stack([arr1,arr2]))\n",
    "print(\"-------------------------------------------------------\")\n",
    "print(\"Stacking of array dstack is\\n\",np.dstack([arr1,arr2]))\n",
    "print(\"-------------------------------------------------------\")\n",
    "print(\"falttening of array is\\n\",np.ndarray.flatten(arr1))\n"
   ]
  },
  {
   "cell_type": "markdown",
   "metadata": {},
   "source": [
    "# flatten the array"
   ]
  },
  {
   "cell_type": "code",
   "execution_count": 256,
   "metadata": {},
   "outputs": [
    {
     "name": "stdout",
     "output_type": "stream",
     "text": [
      "[[1 3 5 7]\n",
      " [2 4 6 8]]\n",
      "Dimension : 2\n",
      "Flattened array: [1 3 5 7 2 4 6 8]\n",
      "Dimension : 1\n"
     ]
    }
   ],
   "source": [
    "arry= np.array([[1,3,5,7],[2,4,6,8]])\n",
    "print(arry)\n",
    "print('Dimension :',arry.ndim)\n",
    "print('Flattened array:', np.ndarray.flatten(arry))\n",
    "print('Dimension :',np.ndarray.flatten(arry).ndim)"
   ]
  },
  {
   "cell_type": "code",
   "execution_count": 261,
   "metadata": {},
   "outputs": [],
   "source": [
    "b=arry.reshape(-1,1)"
   ]
  },
  {
   "cell_type": "code",
   "execution_count": 262,
   "metadata": {},
   "outputs": [
    {
     "data": {
      "text/plain": [
       "array([[1],\n",
       "       [3],\n",
       "       [5],\n",
       "       [7],\n",
       "       [2],\n",
       "       [4],\n",
       "       [6],\n",
       "       [8]])"
      ]
     },
     "execution_count": 262,
     "metadata": {},
     "output_type": "execute_result"
    }
   ],
   "source": [
    "b"
   ]
  },
  {
   "cell_type": "code",
   "execution_count": null,
   "metadata": {},
   "outputs": [],
   "source": []
  }
 ],
 "metadata": {
  "kernelspec": {
   "display_name": "Python 3 (ipykernel)",
   "language": "python",
   "name": "python3"
  },
  "language_info": {
   "codemirror_mode": {
    "name": "ipython",
    "version": 3
   },
   "file_extension": ".py",
   "mimetype": "text/x-python",
   "name": "python",
   "nbconvert_exporter": "python",
   "pygments_lexer": "ipython3",
   "version": "3.9.7"
  }
 },
 "nbformat": 4,
 "nbformat_minor": 4
}
